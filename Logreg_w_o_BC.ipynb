{
  "nbformat": 4,
  "nbformat_minor": 0,
  "metadata": {
    "colab": {
      "name": "Logreg_w/o_BC.ipynb",
      "version": "0.3.2",
      "views": {},
      "default_view": {},
      "provenance": [
        {
          "file_id": "1fjBO8gmmk-VhAtJQKwR0Vey4_g8IkDLK",
          "timestamp": 1523548094268
        },
        {
          "file_id": "1IgUyNIJnQ3XiOs5MXUyMgGiQyj6fA9C_",
          "timestamp": 1523508111065
        },
        {
          "file_id": "1AW__DS4maajMeBMC6MUouzUb3cMTpiUe",
          "timestamp": 1523212800809
        }
      ],
      "collapsed_sections": []
    },
    "kernelspec": {
      "name": "python3",
      "display_name": "Python 3"
    },
    "accelerator": "GPU"
  },
  "cells": [
    {
      "metadata": {
        "id": "gffv_D53ng4Z",
        "colab_type": "code",
        "colab": {
          "autoexec": {
            "startup": false,
            "wait_interval": 0
          }
        }
      },
      "cell_type": "code",
      "source": [
        "# http://pytorch.org/\n",
        "from os import path\n",
        "from wheel.pep425tags import get_abbr_impl, get_impl_ver, get_abi_tag\n",
        "platform = '{}{}-{}'.format(get_abbr_impl(), get_impl_ver(), get_abi_tag())\n",
        "\n",
        "accelerator = 'cu80' if path.exists('/opt/bin/nvidia-smi') else 'cpu'\n",
        "\n",
        "!pip install -q http://download.pytorch.org/whl/{accelerator}/torch-0.3.0.post4-{platform}-linux_x86_64.whl torchvision\n",
        "import torch"
      ],
      "execution_count": 0,
      "outputs": []
    },
    {
      "metadata": {
        "id": "beIOasm-neMg",
        "colab_type": "code",
        "colab": {
          "autoexec": {
            "startup": false,
            "wait_interval": 0
          }
        }
      },
      "cell_type": "code",
      "source": [
        "import csv\n",
        "import random\n",
        "import time\n",
        "import math\n",
        "import numpy as np\n",
        "import matplotlib.pyplot as plt\n",
        "\n",
        "import torch.nn as nn\n",
        "import torch.nn.functional as F\n",
        "import torch.utils.data as utils\n",
        "import torch.optim as optim\n",
        "import torchvision\n",
        "import torchvision.datasets as datasets\n",
        "\n",
        "from random import shuffle\n",
        "from collections import defaultdict\n",
        "from copy import deepcopy\n",
        "from itertools import chain\n",
        "\n",
        "from __future__ import print_function\n",
        "from torch.autograd import Variable\n",
        "from torchvision import transforms\n",
        "from torch.utils.data.sampler import SubsetRandomSampler\n",
        "from google.colab import files"
      ],
      "execution_count": 0,
      "outputs": []
    },
    {
      "metadata": {
        "id": "YeiBZDE-Gfji",
        "colab_type": "code",
        "colab": {
          "autoexec": {
            "startup": false,
            "wait_interval": 0
          },
          "base_uri": "https://localhost:8080/",
          "height": 118
        },
        "outputId": "06f94cfb-4124-4076-d514-d15bfdf1756c",
        "executionInfo": {
          "status": "ok",
          "timestamp": 1524268205606,
          "user_tz": 240,
          "elapsed": 301,
          "user": {
            "displayName": "Hamed Layeghi",
            "photoUrl": "https://lh3.googleusercontent.com/a/default-user=s128",
            "userId": "107778543655020009707"
          }
        }
      },
      "cell_type": "code",
      "source": [
        "hyperparam_tuning_amsgrad = False \n",
        "hyperparam_tuning_adam = False\n",
        "num_epochs_hyp = 10 \n",
        "\n",
        "num_epochs = 13\n",
        "\n",
        "valid_size = 0\n",
        "num_train_hyp = 250*128 #train size for hyperparameter tuning\n",
        "num_valid_hyp = 20*128 # valid size for hp tuning\n",
        "batch_size = 128\n",
        "# Learning the parameters using Amsgrad optimization with categorical cross-entropy loss. The learning rate is initially set to 0.001.\n",
        "criterion = nn.CrossEntropyLoss()\n",
        "alphas = np.logspace(-1,-2.5,8)\n",
        "betas = np.linspace(0.994,0.996,3)\n",
        "alphas_adam = np.logspace(0,-2,9)[1:]\n",
        "betas_adam = np.linspace(0.99,0.999,3)\n",
        "\n",
        "print('alphas=',alphas)\n",
        "print('betas=',betas)\n",
        "print('alphas_adam=',alphas_adam)\n",
        "print('betas_adam=',betas_adam)\n",
        "\n"
      ],
      "execution_count": 402,
      "outputs": [
        {
          "output_type": "stream",
          "text": [
            "alphas= [0.1        0.06105402 0.03727594 0.02275846 0.01389495 0.00848343\n",
            " 0.00517947 0.00316228]\n",
            "betas= [0.994 0.995 0.996]\n",
            "alphas_adam= [0.56234133 0.31622777 0.17782794 0.1        0.05623413 0.03162278\n",
            " 0.01778279 0.01      ]\n",
            "betas_adam= [0.99   0.9945 0.999 ]\n"
          ],
          "name": "stdout"
        }
      ]
    },
    {
      "metadata": {
        "id": "Q-YjangfkCyc",
        "colab_type": "code",
        "colab": {
          "autoexec": {
            "startup": false,
            "wait_interval": 0
          }
        }
      },
      "cell_type": "code",
      "source": [
        "# The below code implements Optimizer class and is taken from pytorch's github implementation\n",
        "\n",
        "required = object()\n",
        "\n",
        "\n",
        "class Optimizer(object):\n",
        "    \"\"\"Base class for all optimizers.\n",
        "\n",
        "    Arguments:\n",
        "        params (iterable): an iterable of :class:`Variable` s or\n",
        "            :class:`dict` s. Specifies what Variables should be optimized.\n",
        "        defaults: (dict): a dict containing default values of optimization\n",
        "            options (used when a parameter group doesn't specify them).\n",
        "    \"\"\"\n",
        "\n",
        "    def __init__(self, params, defaults):\n",
        "        self.defaults = defaults\n",
        "\n",
        "        if isinstance(params, Variable) or torch.is_tensor(params):\n",
        "            raise TypeError(\"params argument given to the optimizer should be \"\n",
        "                            \"an iterable of Variables or dicts, but got \" +\n",
        "                            torch.typename(params))\n",
        "\n",
        "        self.state = defaultdict(dict)\n",
        "        self.param_groups = []\n",
        "\n",
        "        param_groups = list(params)\n",
        "        if len(param_groups) == 0:\n",
        "            raise ValueError(\"optimizer got an empty parameter list\")\n",
        "        if not isinstance(param_groups[0], dict):\n",
        "            param_groups = [{'params': param_groups}]\n",
        "\n",
        "        for param_group in param_groups:\n",
        "            self.add_param_group(param_group)\n",
        "\n",
        "    def __getstate__(self):\n",
        "        return {\n",
        "            'state': self.state,\n",
        "            'param_groups': self.param_groups,\n",
        "        }\n",
        "\n",
        "    def __setstate__(self, state):\n",
        "        self.__dict__.update(state)\n",
        "\n",
        "    def state_dict(self):\n",
        "        \"\"\"Returns the state of the optimizer as a :class:`dict`.\n",
        "\n",
        "        It contains two entries:\n",
        "\n",
        "        * state - a dict holding current optimization state. Its content\n",
        "            differs between optimizer classes.\n",
        "        * param_groups - a dict containing all parameter groups\n",
        "        \"\"\"\n",
        "        # Save ids instead of Variables\n",
        "        def pack_group(group):\n",
        "            packed = {k: v for k, v in group.items() if k != 'params'}\n",
        "            packed['params'] = [id(p) for p in group['params']]\n",
        "            return packed\n",
        "        param_groups = [pack_group(g) for g in self.param_groups]\n",
        "        # Remap state to use ids as keys\n",
        "        packed_state = {(id(k) if isinstance(k, Variable) else k): v\n",
        "                        for k, v in self.state.items()}\n",
        "        return {\n",
        "            'state': packed_state,\n",
        "            'param_groups': param_groups,\n",
        "        }\n",
        "\n",
        "    def load_state_dict(self, state_dict):\n",
        "        \"\"\"Loads the optimizer state.\n",
        "\n",
        "        Arguments:\n",
        "            state_dict (dict): optimizer state. Should be an object returned\n",
        "                from a call to :meth:`state_dict`.\n",
        "        \"\"\"\n",
        "        # deepcopy, to be consistent with module API\n",
        "        state_dict = deepcopy(state_dict)\n",
        "        # Validate the state_dict\n",
        "        groups = self.param_groups\n",
        "        saved_groups = state_dict['param_groups']\n",
        "\n",
        "        if len(groups) != len(saved_groups):\n",
        "            raise ValueError(\"loaded state dict has a different number of \"\n",
        "                             \"parameter groups\")\n",
        "        param_lens = (len(g['params']) for g in groups)\n",
        "        saved_lens = (len(g['params']) for g in saved_groups)\n",
        "        if any(p_len != s_len for p_len, s_len in zip(param_lens, saved_lens)):\n",
        "            raise ValueError(\"loaded state dict contains a parameter group \"\n",
        "                             \"that doesn't match the size of optimizer's group\")\n",
        "\n",
        "        # Update the state\n",
        "        id_map = {old_id: p for old_id, p in\n",
        "                  zip(chain(*(g['params'] for g in saved_groups)),\n",
        "                      chain(*(g['params'] for g in groups)))}\n",
        "        state = defaultdict(\n",
        "            dict, {id_map.get(k, k): v for k, v in state_dict['state'].items()})\n",
        "\n",
        "        # Update parameter groups, setting their 'params' value\n",
        "        def update_group(group, new_group):\n",
        "            new_group['params'] = group['params']\n",
        "            return new_group\n",
        "        param_groups = [\n",
        "            update_group(g, ng) for g, ng in zip(groups, saved_groups)]\n",
        "        self.__setstate__({'state': state, 'param_groups': param_groups})\n",
        "\n",
        "    def zero_grad(self):\n",
        "        \"\"\"Clears the gradients of all optimized :class:`Variable` s.\"\"\"\n",
        "        for group in self.param_groups:\n",
        "            for p in group['params']:\n",
        "                if p.grad is not None:\n",
        "                    if p.grad.volatile:\n",
        "                        p.grad.data.zero_()\n",
        "                    else:\n",
        "                        data = p.grad.data\n",
        "                        p.grad = Variable(data.new().resize_as_(data).zero_())\n",
        "\n",
        "    def step(self, closure):\n",
        "        \"\"\"Performs a single optimization step (parameter update).\n",
        "\n",
        "        Arguments:\n",
        "            closure (callable): A closure that reevaluates the model and\n",
        "                returns the loss. Optional for most optimizers.\n",
        "        \"\"\"\n",
        "        raise NotImplementedError\n",
        "\n",
        "    def add_param_group(self, param_group):\n",
        "        \"\"\"Add a param group to the :class:`Optimizer` s `param_groups`.\n",
        "\n",
        "        This can be useful when fine tuning a pre-trained network as frozen layers can be made\n",
        "        trainable and added to the :class:`Optimizer` as training progresses.\n",
        "\n",
        "        Arguments:\n",
        "            param_group (dict): Specifies what Variables should be optimized along with group\n",
        "            specific optimization options.\n",
        "        \"\"\"\n",
        "        assert isinstance(param_group, dict), \"param group must be a dict\"\n",
        "\n",
        "        params = param_group['params']\n",
        "        if isinstance(params, Variable):\n",
        "            param_group['params'] = [params]\n",
        "        else:\n",
        "            param_group['params'] = list(params)\n",
        "\n",
        "        for param in param_group['params']:\n",
        "            if not isinstance(param, Variable):\n",
        "                raise TypeError(\"optimizer can only optimize Variables, \"\n",
        "                                \"but one of the params is \" + torch.typename(param))\n",
        "            if not param.requires_grad:\n",
        "                raise ValueError(\"optimizing a parameter that doesn't require gradients\")\n",
        "            if not param.is_leaf:\n",
        "                raise ValueError(\"can't optimize a non-leaf Variable\")\n",
        "\n",
        "        for name, default in self.defaults.items():\n",
        "            if default is required and name not in param_group:\n",
        "                raise ValueError(\"parameter group didn't specify a value of required optimization parameter \" +\n",
        "                                 name)\n",
        "            else:\n",
        "                param_group.setdefault(name, default)\n",
        "\n",
        "        param_set = set()\n",
        "        for group in self.param_groups:\n",
        "            param_set.update(set(group['params']))\n",
        "\n",
        "        if not param_set.isdisjoint(set(param_group['params'])):\n",
        "            raise ValueError(\"some parameters appear in more than one parameter group\")\n",
        "\n",
        "        self.param_groups.append(param_group)\n"
      ],
      "execution_count": 0,
      "outputs": []
    },
    {
      "metadata": {
        "id": "exACrNNSkDwr",
        "colab_type": "code",
        "colab": {
          "autoexec": {
            "startup": false,
            "wait_interval": 0
          }
        }
      },
      "cell_type": "code",
      "source": [
        "# The below code modifies pytorch implementation of Adams optimizer to implement Amsgrad algorithm \n",
        "\n",
        "class Amsgrad(Optimizer):\n",
        "    \"\"\"Implements Amsgrad algorithm.\n",
        "\n",
        "    It has been proposed in `On the Convergence of Adam and Beyond`_.\n",
        "\n",
        "    Arguments:\n",
        "        params (iterable): iterable of parameters to optimize or dicts defining\n",
        "            parameter groups\n",
        "        lr (float, optional): learning rate (default: 1e-3)\n",
        "        betas (Tuple[float, float], optional): coefficients used for computing\n",
        "            running averages of gradient and its square (default: (0.9, 0.999))\n",
        "        eps (float, optional): term added to the denominator to improve\n",
        "            numerical stability (default: 1e-8)\n",
        "        weight_decay (float, optional): weight decay (L2 penalty) (default: 0)\n",
        "\n",
        "    .. _n the Convergence of Adam and Beyond:\n",
        "        https://openreview.net/forum?id=ryQu7f-RZ\n",
        "    \"\"\"\n",
        "\n",
        "    # constructor to initialize the hyper-parameters\n",
        "    def __init__(self, params, lr=1e-3, betas=(0.9, 0.99), eps=1e-8,\n",
        "                 weight_decay=0):\n",
        "        defaults = dict(lr=lr, betas=betas, eps=eps,\n",
        "                        weight_decay=weight_decay)\n",
        "        super(Amsgrad, self).__init__(params, defaults)\n",
        "\n",
        "    def step(self, closure=None):\n",
        "        \"\"\"Performs a single optimization step.\n",
        "\n",
        "        Arguments:\n",
        "            closure (callable, optional): A closure that reevaluates the model\n",
        "                and returns the loss.\n",
        "        \"\"\"\n",
        "        loss = None\n",
        "        if closure is not None:\n",
        "            loss = closure()\n",
        "\n",
        "        for group in self.param_groups:\n",
        "            for p in group['params']:\n",
        "                if p.grad is None:\n",
        "                    continue\n",
        "                grad = p.grad.data\n",
        "                if grad.is_sparse:\n",
        "                    raise RuntimeError('Amsgrad does not support sparse gradients, please consider SparseAdam instead')\n",
        "\n",
        "                state = self.state[p]\n",
        "\n",
        "                # State initialization\n",
        "                if len(state) == 0:\n",
        "                    state['step'] = 0\n",
        "                    # Exponential moving average of gradient values\n",
        "                    state['exp_avg'] = torch.zeros_like(p.data)\n",
        "                    # Exponential moving average of squared gradient values\n",
        "                    state['exp_avg_sq'] = torch.zeros_like(p.data)\n",
        "                    # Maximum exponential moving average of squared gradient values\n",
        "                    state['exp_avg_sq_maximum'] = torch.zeros_like(p.data)\n",
        "                exp_avg, exp_avg_sq, exp_avg_sq_maximum = state['exp_avg'], state['exp_avg_sq'], state['exp_avg_sq_maximum']\n",
        "                beta1, beta2 = group['betas']\n",
        "\n",
        "                state['step'] += 1\n",
        "\n",
        "                if group['weight_decay'] != 0:\n",
        "                    grad = grad.add(group['weight_decay'], p.data)\n",
        "\n",
        "               # Decay the first and second moment running average coefficient\n",
        "                exp_avg.mul_(beta1).add_(1 - beta1, grad)\n",
        "                exp_avg_sq.mul_(beta2).addcmul_(1 - beta2, grad, grad)\n",
        "                \n",
        "                # Calculate the maximum between the previous maximum exponential average of squared gradients and current value\n",
        "                exp_avg_sq_maximum = torch.max(exp_avg_sq_maximum,exp_avg_sq)\n",
        "\n",
        "                # Store the maximum\n",
        "                state['exp_avg_sq_maximum'] = exp_avg_sq_maximum\n",
        "                \n",
        "                \n",
        "                denom = exp_avg_sq_maximum.sqrt().add_(group['eps'])\n",
        "\n",
        "                step_size = group['lr']\n",
        "                \n",
        "                # Performs update on parameters of the network based on gradients\n",
        "                p.data.addcdiv_(-step_size, exp_avg, denom)\n",
        "\n",
        "        return loss\n"
      ],
      "execution_count": 0,
      "outputs": []
    },
    {
      "metadata": {
        "id": "68RYT3ywnpcz",
        "colab_type": "code",
        "colab": {
          "autoexec": {
            "startup": false,
            "wait_interval": 0
          }
        }
      },
      "cell_type": "code",
      "source": [
        "'''\n",
        "Reading MNIST dataset\n",
        "'''\n",
        "\n",
        "\n",
        "# It converts the datapoints into tensor and then normalise each datapoint with given mean and standard deviation \n",
        "transform = transforms.Compose([transforms.ToTensor(),\n",
        "                            transforms.Normalize([0.5,], [0.5,])])\n",
        "\n",
        "# Loading the  MNIST dataset consisting of 60000 grayscale training images and 10000 grayscale testing images of size 28 X 28 pixels in a batch size of 128 images at a time\n",
        "# and performing the above transformations \n",
        "# Randomly splitting data into 50000 training examples and 10000 validation examples by generating 50000 random unique indices in the range [0,59999] and then retreiving the initial 5000 values at those indices for building the training dataset. The values at following 1000 indices are used for building validation dataset.\n",
        "trainset_mnist = datasets.MNIST('./', train=True, transform=transform, download=True)\n",
        "num_train = len(trainset_mnist)\n",
        "indices = list(range(num_train))\n",
        "split = int(np.floor(valid_size * num_train))\n",
        "np.random.shuffle(indices)\n",
        "\n",
        "train_idx, valid_idx = indices[split:], indices[:split]\n",
        "train_idx_hyp, valid_idx_hyp = indices[num_valid_hyp:num_valid_hyp+num_train_hyp], indices[:num_valid_hyp]\n",
        "\n",
        "train_sampler = SubsetRandomSampler(train_idx)\n",
        "valid_sampler = SubsetRandomSampler(valid_idx)\n",
        "\n",
        "train_sampler_hyp = SubsetRandomSampler(train_idx_hyp)\n",
        "valid_sampler_hyp = SubsetRandomSampler(valid_idx_hyp)\n",
        "\n",
        "trainloader_mnist = torch.utils.data.DataLoader(trainset_mnist, batch_size=batch_size, sampler=train_sampler)\n",
        "validloader_mnist = torch.utils.data.DataLoader(trainset_mnist, batch_size=batch_size, sampler=valid_sampler)\n",
        "\n",
        "trainloader_mnist_hyp = torch.utils.data.DataLoader(trainset_mnist, batch_size=batch_size, sampler=train_sampler_hyp)\n",
        "validloader_mnist_hyp = torch.utils.data.DataLoader(trainset_mnist, batch_size=batch_size, sampler=valid_sampler_hyp)\n",
        "\n",
        "testset_mnist = torchvision.datasets.MNIST(root='./', train=False, download=True, transform=transform)\n",
        "testloader_mnist = torch.utils.data.DataLoader(testset_mnist, batch_size=128, shuffle=False)"
      ],
      "execution_count": 0,
      "outputs": []
    },
    {
      "metadata": {
        "id": "1IGl550ZheQ6",
        "colab_type": "code",
        "colab": {
          "autoexec": {
            "startup": false,
            "wait_interval": 0
          }
        }
      },
      "cell_type": "code",
      "source": [
        "num_batches_train = int((1-valid_size)*num_train/batch_size)\n",
        "num_batches_valid = int(valid_size*num_train/batch_size)\n",
        "num_batches_train_hyp = int(num_train_hyp/batch_size)\n",
        "num_batches_valid_hyp = int(num_valid_hyp/batch_size)\n",
        "num_test = len(trainset_mnist)\n",
        "num_batches_test = int(num_test/batch_size)\n"
      ],
      "execution_count": 0,
      "outputs": []
    },
    {
      "metadata": {
        "id": "H1fYZhj_hhT1",
        "colab_type": "code",
        "colab": {
          "autoexec": {
            "startup": false,
            "wait_interval": 0
          },
          "base_uri": "https://localhost:8080/",
          "height": 34
        },
        "outputId": "17c3a3f2-daa5-4707-d8f4-71a75cf0b1fd",
        "executionInfo": {
          "status": "ok",
          "timestamp": 1524268207471,
          "user_tz": 240,
          "elapsed": 234,
          "user": {
            "displayName": "Hamed Layeghi",
            "photoUrl": "https://lh3.googleusercontent.com/a/default-user=s128",
            "userId": "107778543655020009707"
          }
        }
      },
      "cell_type": "code",
      "source": [
        "num_batches_train, num_batches_valid, num_batches_train_hyp, num_batches_valid_hyp"
      ],
      "execution_count": 407,
      "outputs": [
        {
          "output_type": "execute_result",
          "data": {
            "text/plain": [
              "(468, 0, 250, 20)"
            ]
          },
          "metadata": {
            "tags": []
          },
          "execution_count": 407
        }
      ]
    },
    {
      "metadata": {
        "id": "18Cn6iEtNiVX",
        "colab_type": "code",
        "colab": {
          "autoexec": {
            "startup": false,
            "wait_interval": 0
          }
        }
      },
      "cell_type": "code",
      "source": [
        "input_size = 784\n",
        "num_classes = 10"
      ],
      "execution_count": 0,
      "outputs": []
    },
    {
      "metadata": {
        "id": "AF9T7pz_nrVV",
        "colab_type": "code",
        "colab": {
          "autoexec": {
            "startup": false,
            "wait_interval": 0
          }
        }
      },
      "cell_type": "code",
      "source": [
        "# Neural net architecture consisting of one hidden layer with 100 ReLu activation units and 1 output layer with 10 output units\n",
        "class LogisticRegression(nn.Module):\n",
        "    def __init__(self, input_size, num_classes):\n",
        "        super(LogisticRegression, self).__init__()\n",
        "        self.linear = nn.Linear(input_size, num_classes)\n",
        "    \n",
        "    def forward(self, x):\n",
        "        x = x.view(-1,28*28)\n",
        "        out = self.linear(x)\n",
        "        \n",
        "        return out"
      ],
      "execution_count": 0,
      "outputs": []
    },
    {
      "metadata": {
        "id": "ZsRMkPoyn-iM",
        "colab_type": "code",
        "colab": {
          "autoexec": {
            "startup": false,
            "wait_interval": 0
          }
        }
      },
      "cell_type": "code",
      "source": [
        "# Instanstiating the network on GPU\n",
        "net = LogisticRegression(input_size, num_classes)\n",
        "initial_state = net.state_dict()\n",
        "net = net.cuda()"
      ],
      "execution_count": 0,
      "outputs": []
    },
    {
      "metadata": {
        "id": "gFVwYfD7hyl8",
        "colab_type": "code",
        "colab": {
          "autoexec": {
            "startup": false,
            "wait_interval": 0
          },
          "base_uri": "https://localhost:8080/",
          "height": 67
        },
        "outputId": "45350870-56e1-4e28-cd20-3bf5c248f5be",
        "executionInfo": {
          "status": "ok",
          "timestamp": 1524268209167,
          "user_tz": 240,
          "elapsed": 278,
          "user": {
            "displayName": "Hamed Layeghi",
            "photoUrl": "https://lh3.googleusercontent.com/a/default-user=s128",
            "userId": "107778543655020009707"
          }
        }
      },
      "cell_type": "code",
      "source": [
        "print(net)"
      ],
      "execution_count": 411,
      "outputs": [
        {
          "output_type": "stream",
          "text": [
            "LogisticRegression(\n",
            "  (linear): Linear(in_features=784, out_features=10)\n",
            ")\n"
          ],
          "name": "stdout"
        }
      ]
    },
    {
      "metadata": {
        "id": "r3ZV48ptBuZp",
        "colab_type": "code",
        "colab": {
          "autoexec": {
            "startup": false,
            "wait_interval": 0
          }
        }
      },
      "cell_type": "code",
      "source": [
        "# The function validation_loss() calculates the loss on validation data which is shuffled and passed to the network in batch size of 128 instances after every epoch.\n",
        "def validation_loss(validloader, num_batches_valid, net_, criterion_):\n",
        "  running_valid_loss = 0.0\n",
        "  for i, data in enumerate(validloader, 0):\n",
        "      inputs, labels = data\n",
        "      inputs = inputs.float()\n",
        "      labels = labels.long()\n",
        "      inputs, labels = Variable(inputs.cuda()), Variable(labels.cuda())\n",
        "      \n",
        "      valid_output = net_(inputs)\n",
        "      \n",
        "      loss_valid = criterion_(valid_output, labels)\n",
        "\n",
        "      # print statistics\n",
        "      running_valid_loss += loss_valid.data[0]\n",
        "   \n",
        "  return (running_valid_loss / num_batches_valid)"
      ],
      "execution_count": 0,
      "outputs": []
    },
    {
      "metadata": {
        "id": "XJ-39EsWT_cE",
        "colab_type": "code",
        "colab": {
          "autoexec": {
            "startup": false,
            "wait_interval": 0
          }
        }
      },
      "cell_type": "code",
      "source": [
        "def adjust_learning_rate(optimizer,lr,t):\n",
        "    new_lr = lr/np.sqrt(t)\n",
        "    for param_group in optimizer.param_groups:\n",
        "        param_group['lr'] = new_lr"
      ],
      "execution_count": 0,
      "outputs": []
    },
    {
      "metadata": {
        "id": "DHu-5mxfchaA",
        "colab_type": "code",
        "colab": {
          "autoexec": {
            "startup": false,
            "wait_interval": 0
          }
        }
      },
      "cell_type": "code",
      "source": [
        "# Hyperparameter tuning for AMSGRAD\n",
        "if hyperparam_tuning_amsgrad:\n",
        "  train_loss_list = []\n",
        "  valid_loss_list = []\n",
        "  valid_loss_min_list = []\n",
        "  valid_loss_min_lista = []\n",
        "  valid_loss_min_listb = []\n",
        "\n",
        "  for alpha in alphas:\n",
        "    valid_loss_min_lista.append(([], alpha))\n",
        "    for beta in betas:\n",
        "      train_loss_list.append(([], alpha, beta))\n",
        "      valid_loss_list.append(([], alpha, beta))\n",
        "      valid_loss_min_list.append(([], alpha, beta))\n",
        "  for beta in betas:\n",
        "    valid_loss_min_listb.append(([], beta))\n",
        "\n",
        "\n",
        "\n",
        "\n",
        "  total_combo = len(alphas)*len(betas)\n",
        "\n",
        "  param_combo_count = 0\n",
        "  alpha_count = 0\n",
        "  \n",
        "  for alpha in alphas:\n",
        "    beta_count = 0\n",
        "    for beta in betas:\n",
        "      print(\"alpha:\", alpha, \" beta 2: \", beta)\n",
        "      print(\"Parameter Combination:\", param_combo_count+1, \"/\", total_combo)\n",
        "      net.load_state_dict(initial_state)\n",
        "      optimizer = Amsgrad(net.parameters(), lr=alpha, betas=(0.9,beta))\n",
        "      start_time_combo = time.time()\n",
        "\n",
        "\n",
        "      for epoch in range(num_epochs_hyp):  # loop over the dataset multiple times\n",
        "          running_loss_train = 0.0\n",
        "          for i, data in enumerate(trainloader_mnist_hyp, 0):\n",
        "              # get the inputs\n",
        "              inputs, labels = data\n",
        "\n",
        "              # wrap them in Variable\n",
        "              inputs, labels = Variable(inputs.cuda()), Variable(labels.cuda())\n",
        "\n",
        "              # zero the parameter gradients\n",
        "              optimizer.zero_grad()\n",
        "\n",
        "              # forward + backward + optimize\n",
        "              outputs = net(inputs)\n",
        "              loss = criterion(outputs, labels)\n",
        "              loss.backward()\n",
        "              optimizer.step()\n",
        "\n",
        "              # print statistics\n",
        "              running_loss_train += loss.data[0]\n",
        "              #Adjust learning rate by dividing by sqrt(t)\n",
        "              t = i+epoch*num_batches_train_hyp+1\n",
        "              adjust_learning_rate(optimizer,alpha,t)\n",
        "\n",
        "          train_loss = running_loss_train/num_batches_train_hyp\n",
        "          valid_loss = validation_loss(validloader_mnist_hyp, num_batches_valid_hyp,net, criterion)\n",
        "          print ('Epoch: %d Train loss: %.3f' %(epoch + 1, train_loss))\n",
        "          print ('Epoch: %d Valid loss: %.3f' %(epoch + 1, valid_loss))\n",
        "          train_loss_list[param_combo_count][0].append(train_loss)\n",
        "          valid_loss_list[param_combo_count][0].append(valid_loss)\n",
        "      #print(np.min(valid_loss_list[param_combo_count][0]))\n",
        "      #validlossmin = np.min(valid_loss_list[param_combo_count][0])\n",
        "      validlossend = valid_loss_list[param_combo_count][0][-1]\n",
        "      valid_loss_min_list[param_combo_count][0].append(validlossend)\n",
        "      valid_loss_min_lista[alpha_count][0].append(validlossend)\n",
        "      valid_loss_min_listb[beta_count][0].append(validlossend)\n",
        "\n",
        "      elapsed_time = time.time() - start_time_combo\n",
        "      print('Finished Training') \n",
        "      param_combo_count += 1\n",
        "      print(\"Remaining Time for hyper-parameter tuning of Adam: \", int((total_combo-param_combo_count)*elapsed_time/60),\" minutes\",\n",
        "           int((total_combo-param_combo_count)*elapsed_time%60),\" seconds\")\n",
        "      beta_count += 1\n",
        "    \n",
        "    print(valid_loss_min_lista[alpha_count][0])\n",
        "\n",
        "\n",
        "    alpha_count += 1\n",
        "    print(alpha_count)\n",
        "\n",
        "    \n",
        "   \n",
        "\n",
        "  "
      ],
      "execution_count": 0,
      "outputs": []
    },
    {
      "metadata": {
        "id": "-47v6Ba6X9i-",
        "colab_type": "code",
        "colab": {
          "autoexec": {
            "startup": false,
            "wait_interval": 0
          }
        }
      },
      "cell_type": "code",
      "source": [
        "# Plotting all results of hyperparameter tuning for AMSGRAD vs Beta2\n",
        "\n",
        "if hyperparam_tuning_amsgrad:\n",
        "  plt.figure(figsize=(7,5))\n",
        "  #title = \"alpha = \" + str(train_loss_list[i][1]) + \" Beta2 = \" + str(train_loss_list[i][2])\n",
        "  title = \"Hyperparameter Tuning by Minimum Validation Loss for AMSGRAD\"\n",
        "  plt.title(title)\n",
        "  for i in range(len(alphas)):\n",
        "    plt.plot(betas, valid_loss_min_lista[i][0], label=r'$\\alpha = $'+str(alphas[i]))\n",
        "    #plt.ylim(0,1.0)\n",
        "  plt.grid(color='gray', linewidth=1)\n",
        "  plt.legend(loc='best')\n",
        "  plt.xlabel(r'$\\beta_2$')\n",
        "  plt.ylabel('minimum validation loss')\n",
        "  plt.xlim((np.min(betas),np.max(betas)))\n",
        "  plt.xticks(betas)\n",
        "  plt.gca().set_facecolor('w')\n",
        "  plt.show()\n"
      ],
      "execution_count": 0,
      "outputs": []
    },
    {
      "metadata": {
        "id": "gdsA0XTBFcSQ",
        "colab_type": "code",
        "colab": {
          "autoexec": {
            "startup": false,
            "wait_interval": 0
          }
        }
      },
      "cell_type": "code",
      "source": [
        "# Plotting all results of hyperparameter tuning for AMSGRAD vs alpha\n",
        "\n",
        "if hyperparam_tuning_amsgrad:\n",
        "  plt.figure(figsize=(7,5))\n",
        "  #title = \"alpha = \" + str(train_loss_list[i][1]) + \" Beta2 = \" + str(train_loss_list[i][2])\n",
        "  title = \"Hyperparameter Tuning by Minimum Validation Loss for AMSGRAD\"\n",
        "  plt.title(title)\n",
        "  for i in range(len(betas)):\n",
        "    plt.semilogx(alphas, valid_loss_min_listb[i][0], label=r'$\\beta_2 = $'+str(round(betas[i],4))+r'$, \\alpha_{min} = $'+str(round(alphas[np.argmin(valid_loss_min_listb[i][0])],3)))\n",
        "    print(alphas[np.argmin(valid_loss_min_listb[i][0])],betas[i],np.min(valid_loss_min_listb[i][0]))\n",
        "    #plt.ylim(0,1.0)\n",
        "  plt.grid(color='gray', linewidth=1)\n",
        "  plt.legend(loc='best')\n",
        "  plt.xlabel(r'$\\alpha$')\n",
        "  plt.ylabel('Minimum Validation Loss')\n",
        "  plt.xlim((np.min(alphas),np.max(alphas)))\n",
        "  plt.ylim(0,4)\n",
        "  plt.xticks(alphas)\n",
        "  plt.gca().set_facecolor('w')\n",
        "  plt.show()\n"
      ],
      "execution_count": 0,
      "outputs": []
    },
    {
      "metadata": {
        "id": "1JcaV10jiIVh",
        "colab_type": "code",
        "colab": {
          "autoexec": {
            "startup": false,
            "wait_interval": 0
          }
        }
      },
      "cell_type": "code",
      "source": [
        "# Train Loss for each set of hyperparameters in AMSGRAD\n",
        "if hyperparam_tuning_amsgrad:\n",
        "  x = num_batches_train_hyp*np.arange(0,num_epochs_hyp)\n",
        "  print(x)\n",
        "  for i in range(len(train_loss_list)):\n",
        "\n",
        "    plt.figure(figsize=(7,5))\n",
        "    title = \"alpha = \" + str(train_loss_list[i][1]) + \" Beta2 = \" + str(train_loss_list[i][2])\n",
        "    plt.title(title)\n",
        "    plt.plot(x, train_loss_list[i][0], 'g', label=\"Amsgrad\")\n",
        "    #plt.ylim(0,1.0)\n",
        "    plt.grid(color='gray', linewidth=1)\n",
        "    plt.legend(loc='best')\n",
        "    plt.xlabel('Iterations')\n",
        "    plt.ylabel('Train loss')\n",
        "    plt.gca().set_facecolor('w')\n",
        "    plt.show()"
      ],
      "execution_count": 0,
      "outputs": []
    },
    {
      "metadata": {
        "id": "qCjQjd_8iRdI",
        "colab_type": "code",
        "colab": {
          "autoexec": {
            "startup": false,
            "wait_interval": 0
          }
        }
      },
      "cell_type": "code",
      "source": [
        "if hyperparam_tuning_amsgrad:\n",
        "  x = num_batches_train_hyp*np.arange(0,num_epochs_hyp)\n",
        "  print(x)\n",
        "  for i in range(len(valid_loss_list)):\n",
        "\n",
        "    plt.figure(figsize=(7,5))\n",
        "    title = \"alpha = \" + str(valid_loss_list[i][1]) + \" Beta2 = \" + str(valid_loss_list[i][2])\n",
        "    plt.title(title)\n",
        "    plt.plot(x, valid_loss_list[i][0], 'g', label=\"Amsgrad\")\n",
        "    plt.grid(color='gray', linewidth=1)\n",
        "    plt.legend(loc='best')\n",
        "    plt.ylim(0,1.3)\n",
        "    plt.xlabel('Iterations')\n",
        "    plt.ylabel('Valid loss')\n",
        "    plt.gca().set_facecolor('w')\n",
        "    plt.show()"
      ],
      "execution_count": 0,
      "outputs": []
    },
    {
      "metadata": {
        "id": "yW6y56Y5gggD",
        "colab_type": "code",
        "colab": {
          "autoexec": {
            "startup": false,
            "wait_interval": 0
          }
        }
      },
      "cell_type": "code",
      "source": [
        "# Instanstiating the network on GPU\n",
        "\n",
        "net.load_state_dict(initial_state)"
      ],
      "execution_count": 0,
      "outputs": []
    },
    {
      "metadata": {
        "id": "n5Lr0B5JvwD2",
        "colab_type": "code",
        "colab": {
          "autoexec": {
            "startup": false,
            "wait_interval": 0
          }
        }
      },
      "cell_type": "code",
      "source": [
        "#Optimal Hyperparameters for AMSGRAD after hyperparameter tuning\n",
        "alpha_amsgrad = 0.015848931924611134\n",
        "beta2_amsgrad = 0.994"
      ],
      "execution_count": 0,
      "outputs": []
    },
    {
      "metadata": {
        "id": "e_8zGIRagi1d",
        "colab_type": "code",
        "colab": {
          "autoexec": {
            "startup": false,
            "wait_interval": 0
          }
        }
      },
      "cell_type": "code",
      "source": [
        "# Learning the parameters using Amsgrad optimization with categorical cross-entropy loss. The learning rate is initially set to 0.001.\n",
        "optimizer = Amsgrad(net.parameters(), lr=alpha_amsgrad, betas=(0.9,beta2_amsgrad))"
      ],
      "execution_count": 0,
      "outputs": []
    },
    {
      "metadata": {
        "id": "O9E-9zQ7oWBo",
        "colab_type": "code",
        "colab": {
          "autoexec": {
            "startup": false,
            "wait_interval": 0
          },
          "base_uri": "https://localhost:8080/",
          "height": 471
        },
        "cellView": "code",
        "outputId": "55730439-5077-4ee2-a367-70c839449dc6",
        "executionInfo": {
          "status": "ok",
          "timestamp": 1524268328156,
          "user_tz": 240,
          "elapsed": 114563,
          "user": {
            "displayName": "Hamed Layeghi",
            "photoUrl": "https://lh3.googleusercontent.com/a/default-user=s128",
            "userId": "107778543655020009707"
          }
        }
      },
      "cell_type": "code",
      "source": [
        "# AMSGrad train and test loss per epoch with found hyperparameters\n",
        "\n",
        "train_loss_list_epoch = []\n",
        "test_loss_list_epoch = []\n",
        "train_loss_list_iter = []\n",
        "pkl_filename = 'nn_saved_model.pkl'\n",
        "for epoch in range(num_epochs):  # loop over the dataset multiple times\n",
        "\n",
        "    running_loss_train = 0.0\n",
        "    \n",
        "    for i, data in enumerate(trainloader_mnist, 0):\n",
        "        running_loss = 0.0\n",
        "        # get the inputs\n",
        "        inputs, labels = data\n",
        "\n",
        "        # wrap them in Variable\n",
        "        inputs, labels = Variable(inputs.cuda()), Variable(labels.cuda())\n",
        "\n",
        "        # zero the parameter gradients\n",
        "        optimizer.zero_grad()\n",
        "\n",
        "        # forward + backward + optimize\n",
        "        outputs = net(inputs)\n",
        "        loss = criterion(outputs, labels)\n",
        "        loss.backward()\n",
        "        optimizer.step()\n",
        "\n",
        "        # print statistics\n",
        "        running_loss_train += loss.data[0]\n",
        "        running_loss = loss.data[0]\n",
        "        \n",
        "        t = i+epoch*num_batches_train+1\n",
        "        adjust_learning_rate(optimizer,alpha_amsgrad,t)\n",
        "        train_loss_list_iter.append(running_loss)\n",
        "        \n",
        "    train_loss = running_loss_train/num_batches_train\n",
        "    test_loss = validation_loss(testloader_mnist, num_batches_test, net, criterion)\n",
        "    print ('Epoch: %d Train loss: %.3f' %(epoch + 1, train_loss))\n",
        "    print ('Epoch: %d Test loss: %.3f' %(epoch + 1, test_loss))\n",
        "    train_loss_list_epoch.append(train_loss)\n",
        "    test_loss_list_epoch.append(test_loss)\n",
        "\n",
        "    torch.save(net.state_dict(), pkl_filename)\n",
        "\n",
        "print('Finished Training')"
      ],
      "execution_count": 422,
      "outputs": [
        {
          "output_type": "stream",
          "text": [
            "Epoch: 1 Train loss: 0.606\n",
            "Epoch: 1 Test loss: 0.058\n",
            "Epoch: 2 Train loss: 0.349\n",
            "Epoch: 2 Test loss: 0.054\n",
            "Epoch: 3 Train loss: 0.330\n",
            "Epoch: 3 Test loss: 0.052\n",
            "Epoch: 4 Train loss: 0.321\n",
            "Epoch: 4 Test loss: 0.052\n",
            "Epoch: 5 Train loss: 0.315\n",
            "Epoch: 5 Test loss: 0.051\n",
            "Epoch: 6 Train loss: 0.311\n",
            "Epoch: 6 Test loss: 0.050\n",
            "Epoch: 7 Train loss: 0.308\n",
            "Epoch: 7 Test loss: 0.050\n",
            "Epoch: 8 Train loss: 0.305\n",
            "Epoch: 8 Test loss: 0.050\n",
            "Epoch: 9 Train loss: 0.303\n",
            "Epoch: 9 Test loss: 0.049\n",
            "Epoch: 10 Train loss: 0.301\n",
            "Epoch: 10 Test loss: 0.050\n",
            "Epoch: 11 Train loss: 0.300\n",
            "Epoch: 11 Test loss: 0.049\n",
            "Epoch: 12 Train loss: 0.298\n",
            "Epoch: 12 Test loss: 0.049\n",
            "Epoch: 13 Train loss: 0.297\n",
            "Epoch: 13 Test loss: 0.049\n",
            "Finished Training\n"
          ],
          "name": "stdout"
        }
      ]
    },
    {
      "metadata": {
        "id": "WPMhLZ_mGeRG",
        "colab_type": "code",
        "colab": {
          "autoexec": {
            "startup": false,
            "wait_interval": 0
          }
        }
      },
      "cell_type": "code",
      "source": [
        "# Instanstiating the network on GPU\n",
        "net_adam = LogisticRegression(input_size, num_classes)\n",
        "net_adam.load_state_dict(initial_state)\n",
        "net_adam = net_adam.cuda()"
      ],
      "execution_count": 0,
      "outputs": []
    },
    {
      "metadata": {
        "id": "eyK-Z1OOqW3r",
        "colab_type": "code",
        "colab": {
          "autoexec": {
            "startup": false,
            "wait_interval": 0
          }
        }
      },
      "cell_type": "code",
      "source": [
        "# Hyperparameter tuning for ADAM\n",
        "if hyperparam_tuning_adam:\n",
        "  train_loss_list_adam = []\n",
        "  valid_loss_list_adam = []\n",
        "  valid_loss_min_list_adam = []\n",
        "  valid_loss_min_lista_adam = []\n",
        "  valid_loss_min_listb_adam = []\n",
        "  for alpha in alphas_adam:\n",
        "    valid_loss_min_lista_adam.append(([], alpha))\n",
        "    for beta in betas_adam:\n",
        "      train_loss_list_adam.append(([], alpha, beta))\n",
        "      valid_loss_list_adam.append(([], alpha, beta))\n",
        "      valid_loss_min_list_adam.append(([], alpha, beta))\n",
        "  for beta in betas:\n",
        "    valid_loss_min_listb_adam.append(([], beta))\n",
        "\n",
        "\n",
        "\n",
        "\n",
        "\n",
        "  total_combo = len(alphas_adam)*len(betas_adam)\n",
        "\n",
        "  param_combo_count = 0\n",
        "  alpha_count = 0\n",
        "  for alpha in alphas_adam:\n",
        "    beta_count = 0\n",
        "    for beta in betas_adam:\n",
        "      print(\"alpha:\", alpha, \" beta 2: \", beta)\n",
        "      print(\"Parameter Combination:\", param_combo_count+1, \"/\", total_combo)\n",
        "      net_adam.load_state_dict(initial_state)\n",
        "      optimizer_adam = optim.Adam(net_adam.parameters(), lr=alpha, betas=(0.9,beta))\n",
        "      start_time_combo = time.time()\n",
        "\n",
        "\n",
        "      for epoch in range(num_epochs_hyp):  # loop over the dataset multiple times\n",
        "          running_loss_train_adam = 0.0\n",
        "          for i, data in enumerate(trainloader_mnist_hyp, 0):\n",
        "              # get the inputs\n",
        "              inputs, labels = data\n",
        "\n",
        "              # wrap them in Variable\n",
        "              inputs, labels = Variable(inputs.cuda()), Variable(labels.cuda())\n",
        "\n",
        "              # zero the parameter gradients\n",
        "              optimizer_adam.zero_grad()\n",
        "\n",
        "              # forward + backward + optimize\n",
        "              outputs = net_adam(inputs)\n",
        "              loss = criterion(outputs, labels)\n",
        "              loss.backward()\n",
        "              optimizer_adam.step()\n",
        "\n",
        "              # print statistics\n",
        "              running_loss_train_adam += loss.data[0]\n",
        "              #Adjust learning rate by dividing by sqrt(t)\n",
        "              t = i+epoch*num_batches_train_hyp+1\n",
        "              adjust_learning_rate(optimizer_adam,alpha,t)\n",
        "\n",
        "          train_loss_adam = running_loss_train_adam/num_batches_train_hyp\n",
        "          valid_loss_adam = validation_loss(validloader_mnist_hyp, num_batches_valid_hyp,net_adam, criterion)\n",
        "          print ('Epoch: %d Train loss: %.3f' %(epoch + 1, train_loss_adam))\n",
        "          print ('Epoch: %d Valid loss: %.3f' %(epoch + 1, valid_loss_adam))\n",
        "          train_loss_list_adam[param_combo_count][0].append(train_loss_adam)\n",
        "          valid_loss_list_adam[param_combo_count][0].append(valid_loss_adam)\n",
        "      #print(np.min(valid_loss_list_adam[param_combo_count][0]))\n",
        "      #validlossmin = np.min(valid_loss_list_adam[param_combo_count][0])\n",
        "      validlossend = valid_loss_list_adam[param_combo_count][0][-1]\n",
        "      valid_loss_min_list_adam[param_combo_count][0].append(validlossend)\n",
        "      valid_loss_min_lista_adam[alpha_count][0].append(validlossend)\n",
        "      valid_loss_min_listb_adam[beta_count][0].append(validlossend)\n",
        "\n",
        "\n",
        "      elapsed_time = time.time() - start_time_combo\n",
        "      print('Finished Training') \n",
        "      param_combo_count += 1\n",
        "      print(\"Remaining Time for hyper-parameter tuning of Adam: \", int((total_combo-param_combo_count)*elapsed_time/60),\" minutes\",\n",
        "           int((total_combo-param_combo_count)*elapsed_time%60),\" seconds\")\n",
        "      beta_count +=1\n",
        "    \n",
        "    print(valid_loss_min_lista_adam[alpha_count][0])\n",
        "    print(valid_loss_min_lista_adam)\n",
        "\n",
        "    alpha_count += 1\n",
        "    print(alpha_count)\n"
      ],
      "execution_count": 0,
      "outputs": []
    },
    {
      "metadata": {
        "id": "qy_X1O4NtPlf",
        "colab_type": "code",
        "colab": {
          "autoexec": {
            "startup": false,
            "wait_interval": 0
          },
          "base_uri": "https://localhost:8080/",
          "height": 54
        },
        "outputId": "b9768c5b-e3eb-4fee-b3bf-a393a5afbf54",
        "executionInfo": {
          "status": "ok",
          "timestamp": 1524268329308,
          "user_tz": 240,
          "elapsed": 266,
          "user": {
            "displayName": "Hamed Layeghi",
            "photoUrl": "https://lh3.googleusercontent.com/a/default-user=s128",
            "userId": "107778543655020009707"
          }
        }
      },
      "cell_type": "code",
      "source": [
        "# Plotting all results of hyperparameter tuning for ADAM\n",
        "print (valid_loss_min_lista_adam)\n",
        "if hyperparam_tuning_adam:\n",
        "  plt.figure(figsize=(7,5))\n",
        "  #title = \"alpha = \" + str(train_loss_list[i][1]) + \" Beta2 = \" + str(train_loss_list[i][2])\n",
        "  title = \"Hyperparameter Tuning by Minimum Validation Loss for ADAM\"\n",
        "  plt.title(title)\n",
        "  for i in range(len(alphas_adam)):\n",
        "    plt.plot(betas_adam, valid_loss_min_lista_adam[i][0], label=r'$\\alpha = $'+str(alphas_adam[i]))\n",
        "    #plt.ylim(0,1.0)\n",
        "  plt.grid(color='gray', linewidth=1)\n",
        "  plt.legend(loc='best')\n",
        "  plt.xlabel(r'$\\beta_2$')\n",
        "  plt.ylabel('minimum validation loss')\n",
        "  plt.xlim((np.min(betas),np.max(betas)))\n",
        "  plt.xticks(betas_adam)\n",
        "  plt.gca().set_facecolor('w')\n",
        "  plt.show()\n"
      ],
      "execution_count": 425,
      "outputs": [
        {
          "output_type": "stream",
          "text": [
            "[([0.7797144949436188, 0.9028547525405883, 0.8595818042755127], 0.5623413251903491), ([0.6596395403146744, 0.530584043264389, 0.4747235536575317], 0.31622776601683794), ([0.349319152534008, 0.3438749134540558, 0.38749154806137087], 0.1778279410038923), ([0.30779177248477935, 0.3047154262661934, 0.31403210312128066], 0.1), ([0.3219259589910507, 0.3041494287550449, 0.29674054533243177], 0.05623413251903491), ([0.2993109107017517, 0.28934305533766747, 0.2919121146202087], 0.03162277660168379), ([0.29180932268500326, 0.2950167149305344, 0.2977304995059967], 0.01778279410038923), ([0.30477443635463713, 0.30719234645366666, 0.311457759141922], 0.01)]\n"
          ],
          "name": "stdout"
        }
      ]
    },
    {
      "metadata": {
        "id": "baSxz7k9GVec",
        "colab_type": "code",
        "colab": {
          "autoexec": {
            "startup": false,
            "wait_interval": 0
          }
        }
      },
      "cell_type": "code",
      "source": [
        "if hyperparam_tuning_adam:\n",
        "  plt.figure(figsize=(7,5))\n",
        "  #title = \"alpha = \" + str(train_loss_list[i][1]) + \" Beta2 = \" + str(train_loss_list[i][2])\n",
        "  title = \"Hyperparameter Tuning by Minimum Validation Loss for ADAM\"\n",
        "  plt.title(title)\n",
        "  for i in range(len(betas_adam)):\n",
        "    plt.semilogx(alphas_adam, valid_loss_min_listb_adam[i][0], label=r'$\\beta_2 = $'+str(round(betas_adam[i],4))+r'$, \\alpha_{min} = $'+str(round(alphas_adam[np.argmin(valid_loss_min_listb_adam[i][0])],3)))\n",
        "    print(alphas_adam[np.argmin(valid_loss_min_listb_adam[i][0])],betas_adam[i],np.min(valid_loss_min_listb_adam[i][0]))\n",
        "\n",
        "    #plt.ylim(0,1.0)\n",
        "  plt.grid(color='gray', linewidth=1)\n",
        "  plt.legend(loc='best')\n",
        "  plt.xlabel(r'$\\alpha$')\n",
        "  plt.ylabel('Minimum Validation Loss')\n",
        "  plt.xlim((np.min(alphas_adam),np.max(alphas_adam)))\n",
        "  plt.ylim(0,4)\n",
        "  plt.xticks(alphas_adam)\n",
        "  plt.gca().set_facecolor('w')\n",
        "  plt.show()\n",
        "\n",
        "# 0.021544346900318846 0.99 0.28360784649848936\n",
        "#0.021544346900318846 0.9925 0.2784189060330391\n",
        "#0.021544346900318846 0.995 0.27910616546869277\n",
        "#0.021544346900318846 0.997 0.29932574182748795\n",
        "#0.01 0.999 0.298560106754303"
      ],
      "execution_count": 0,
      "outputs": []
    },
    {
      "metadata": {
        "id": "Gl5I6-3tjZVx",
        "colab_type": "code",
        "colab": {
          "autoexec": {
            "startup": false,
            "wait_interval": 0
          }
        }
      },
      "cell_type": "code",
      "source": [
        "# Train Loss for each set of hyperparameters in ADAM\n",
        "\n",
        "if hyperparam_tuning_adam:\n",
        "  x = num_batches_train_hyp*np.arange(0,num_epochs_hyp)\n",
        "  print(x)\n",
        "  for i in range(len(train_loss_list_adam)):\n",
        "\n",
        "    plt.figure(figsize=(7,5))\n",
        "    title = \"alpha = \" + str(train_loss_list_adam[i][1]) + \" Beta2 = \" + str(train_loss_list_adam[i][2])\n",
        "    plt.title(title)\n",
        "    plt.plot(x, train_loss_list_adam[i][0], 'g', label=\"Adam\")\n",
        "    #plt.ylim(0,0.3)\n",
        "    plt.grid(color='gray', linewidth=1)\n",
        "    plt.legend(loc='best')\n",
        "    plt.xlabel('Iterations')\n",
        "    plt.ylabel('Train loss')\n",
        "    plt.gca().set_facecolor('w')\n",
        "    plt.show()"
      ],
      "execution_count": 0,
      "outputs": []
    },
    {
      "metadata": {
        "id": "yJIibbmwjbwd",
        "colab_type": "code",
        "colab": {
          "autoexec": {
            "startup": false,
            "wait_interval": 0
          }
        }
      },
      "cell_type": "code",
      "source": [
        "# Test Loss for each set of hyperparameters in ADAM\n",
        "\n",
        "\n",
        "if hyperparam_tuning_adam:\n",
        "  x = num_batches_train_hyp*np.arange(0,num_epochs_hyp)\n",
        "  print(x)\n",
        "  for i in range(len(valid_loss_list_adam)):\n",
        "\n",
        "    plt.figure(figsize=(7,5))\n",
        "    title = \"alpha = \" + str(valid_loss_list_adam[i][1]) + \" Beta2 = \" + str(valid_loss_list_adam[i][2])\n",
        "    plt.title(title)\n",
        "    plt.plot(x, valid_loss_list_adam[i][0], 'g', label=\"Adam\")\n",
        "    plt.grid(color='gray', linewidth=1)\n",
        "    plt.legend(loc='best')\n",
        "    plt.ylim(0,1.3)\n",
        "    plt.xlabel('Iterations')\n",
        "    plt.ylabel('Valid loss')\n",
        "    plt.gca().set_facecolor('w')\n",
        "    plt.show()"
      ],
      "execution_count": 0,
      "outputs": []
    },
    {
      "metadata": {
        "id": "vOzWlGmwjeSm",
        "colab_type": "code",
        "colab": {
          "autoexec": {
            "startup": false,
            "wait_interval": 0
          }
        }
      },
      "cell_type": "code",
      "source": [
        "net_adam.load_state_dict(initial_state) #Setting the initial state of adam to the same values as amsgrad's initial states"
      ],
      "execution_count": 0,
      "outputs": []
    },
    {
      "metadata": {
        "id": "DO1fXmMcvf_G",
        "colab_type": "code",
        "colab": {
          "autoexec": {
            "startup": false,
            "wait_interval": 0
          }
        }
      },
      "cell_type": "code",
      "source": [
        "# Optimal Hyperparameters from Tuning for ADAM\n",
        "alpha_adam = 0.03162277660168379\n",
        "beta2_adam = 0.995"
      ],
      "execution_count": 0,
      "outputs": []
    },
    {
      "metadata": {
        "id": "-jYuI4MgjgGv",
        "colab_type": "code",
        "colab": {
          "autoexec": {
            "startup": false,
            "wait_interval": 0
          }
        }
      },
      "cell_type": "code",
      "source": [
        "# Learning the parameters using Amsgrad optimization with categorical cross-entropy loss. The learning rate is initially set to 0.001.\n",
        "optimizer_adam = optim.Adam(net_adam.parameters(), lr=alpha_adam, betas=(0.9,beta2_adam))"
      ],
      "execution_count": 0,
      "outputs": []
    },
    {
      "metadata": {
        "id": "BR1TXtBWjj95",
        "colab_type": "code",
        "colab": {
          "autoexec": {
            "startup": false,
            "wait_interval": 0
          },
          "base_uri": "https://localhost:8080/",
          "height": 471
        },
        "outputId": "0730fdfe-c4a2-480b-ff95-26196e13b596",
        "executionInfo": {
          "status": "ok",
          "timestamp": 1524268446224,
          "user_tz": 240,
          "elapsed": 113896,
          "user": {
            "displayName": "Hamed Layeghi",
            "photoUrl": "https://lh3.googleusercontent.com/a/default-user=s128",
            "userId": "107778543655020009707"
          }
        }
      },
      "cell_type": "code",
      "source": [
        "# Adam train and test loss per epoch with found hyperparameters\n",
        "train_loss_list_epoch_adam = []\n",
        "test_loss_list_epoch_adam = []\n",
        "train_loss_list_iter_adam = []\n",
        "pkl_filename = 'nn_saved_model_adam.pkl'\n",
        "for epoch in range(num_epochs):  # loop over the dataset multiple times\n",
        "\n",
        "    running_loss_train = 0.0\n",
        "    for i, data in enumerate(trainloader_mnist, 0):\n",
        "        running_loss = 0.0\n",
        "        # get the inputs\n",
        "        inputs, labels = data\n",
        "\n",
        "        # wrap them in Variable\n",
        "        inputs, labels = Variable(inputs.cuda()), Variable(labels.cuda())\n",
        "\n",
        "        # zero the parameter gradients\n",
        "        optimizer_adam.zero_grad()\n",
        "\n",
        "        # forward + backward + optimize\n",
        "        outputs = net_adam(inputs)\n",
        "        loss = criterion(outputs, labels)\n",
        "        loss.backward()\n",
        "        optimizer_adam.step()\n",
        "\n",
        "        # print statistics\n",
        "        running_loss_train += loss.data[0]\n",
        "        t = i+epoch*num_batches_train+1\n",
        "        adjust_learning_rate(optimizer_adam,alpha_adam,t)\n",
        "        running_loss = loss.data[0]\n",
        "        train_loss_list_iter_adam.append(running_loss)\n",
        "        \n",
        "    train_loss = running_loss_train/num_batches_train\n",
        "    test_loss = validation_loss(testloader_mnist, num_batches_test, net_adam, criterion)\n",
        "    print ('Epoch: %d Train loss: %.3f' %(epoch + 1, train_loss))\n",
        "    print ('Epoch: %d Valid loss: %.3f' %(epoch + 1, test_loss))\n",
        "    train_loss_list_epoch_adam.append(train_loss)\n",
        "    test_loss_list_epoch_adam.append(test_loss)\n",
        "\n",
        "    torch.save(net_adam.state_dict(), pkl_filename)\n",
        "\n",
        "print('Finished Training')"
      ],
      "execution_count": 432,
      "outputs": [
        {
          "output_type": "stream",
          "text": [
            "Epoch: 1 Train loss: 0.671\n",
            "Epoch: 1 Valid loss: 0.053\n",
            "Epoch: 2 Train loss: 0.326\n",
            "Epoch: 2 Valid loss: 0.052\n",
            "Epoch: 3 Train loss: 0.306\n",
            "Epoch: 3 Valid loss: 0.049\n",
            "Epoch: 4 Train loss: 0.296\n",
            "Epoch: 4 Valid loss: 0.049\n",
            "Epoch: 5 Train loss: 0.291\n",
            "Epoch: 5 Valid loss: 0.047\n",
            "Epoch: 6 Train loss: 0.285\n",
            "Epoch: 6 Valid loss: 0.047\n",
            "Epoch: 7 Train loss: 0.283\n",
            "Epoch: 7 Valid loss: 0.048\n",
            "Epoch: 8 Train loss: 0.278\n",
            "Epoch: 8 Valid loss: 0.047\n",
            "Epoch: 9 Train loss: 0.276\n",
            "Epoch: 9 Valid loss: 0.047\n",
            "Epoch: 10 Train loss: 0.274\n",
            "Epoch: 10 Valid loss: 0.046\n",
            "Epoch: 11 Train loss: 0.273\n",
            "Epoch: 11 Valid loss: 0.046\n",
            "Epoch: 12 Train loss: 0.271\n",
            "Epoch: 12 Valid loss: 0.046\n",
            "Epoch: 13 Train loss: 0.270\n",
            "Epoch: 13 Valid loss: 0.046\n",
            "Finished Training\n"
          ],
          "name": "stdout"
        }
      ]
    },
    {
      "metadata": {
        "id": "q-2RQDTnyzy-",
        "colab_type": "code",
        "colab": {
          "autoexec": {
            "startup": false,
            "wait_interval": 0
          },
          "base_uri": "https://localhost:8080/",
          "height": 334
        },
        "outputId": "1f373f70-80ce-4259-f90d-86cd160d285e",
        "executionInfo": {
          "status": "ok",
          "timestamp": 1524268446841,
          "user_tz": 240,
          "elapsed": 564,
          "user": {
            "displayName": "Hamed Layeghi",
            "photoUrl": "https://lh3.googleusercontent.com/a/default-user=s128",
            "userId": "107778543655020009707"
          }
        }
      },
      "cell_type": "code",
      "source": [
        "# Train loss\n",
        "x = num_batches_train*np.arange(0,num_epochs)\n",
        "plt.figure(figsize=(7,5))\n",
        "actual, = plt.plot(x,train_loss_list_epoch, 'g', label=\"Amsgrad\")\n",
        "predicted, = plt.plot(x, train_loss_list_epoch_adam, 'b--', label =\"Adams\")\n",
        "#t.title(\"Train loss with number of epochs\")\n",
        "plt.legend(handles=[actual,predicted])\n",
        "plt.xlabel('Iterations')\n",
        "plt.ylabel('Train Loss')\n",
        "plt.grid(color='gray', linewidth=1)\n",
        "plt.gca().set_facecolor('w')\n",
        "plt.xlim(0,5000)\n",
        "plt.show()"
      ],
      "execution_count": 433,
      "outputs": [
        {
          "output_type": "display_data",
          "data": {
            "image/png": "[encoded data removed]",
            "text/plain": [
              "<matplotlib.figure.Figure at 0x7fb3028b53c8>"
            ]
          },
          "metadata": {
            "tags": []
          }
        }
      ]
    },
    {
      "metadata": {
        "id": "jUl1G3uezsk3",
        "colab_type": "code",
        "colab": {
          "autoexec": {
            "startup": false,
            "wait_interval": 0
          },
          "base_uri": "https://localhost:8080/",
          "height": 334
        },
        "outputId": "d8ad9698-7999-49fb-9aa8-73f94b741c85",
        "executionInfo": {
          "status": "ok",
          "timestamp": 1524268447311,
          "user_tz": 240,
          "elapsed": 401,
          "user": {
            "displayName": "Hamed Layeghi",
            "photoUrl": "https://lh3.googleusercontent.com/a/default-user=s128",
            "userId": "107778543655020009707"
          }
        }
      },
      "cell_type": "code",
      "source": [
        "\n",
        "x = num_batches_train*np.arange(0,num_epochs)\n",
        "\n",
        "plt.figure(figsize=(7,5))\n",
        "actual, = plt.plot(x,test_loss_list_epoch, 'g', label=\"Amsgrad\")\n",
        "predicted, = plt.plot(x, test_loss_list_epoch_adam, 'b--', label =\"Adams\")\n",
        "#plt.title(\"Validation loss with number of epochs\")\n",
        "plt.legend(handles=[actual,predicted])\n",
        "plt.xlabel('Iterations')\n",
        "plt.ylabel('Test Loss')\n",
        "plt.grid(color='gray', linewidth=1)\n",
        "plt.gca().set_facecolor('w')\n",
        "plt.xlim(0,5000)\n",
        "plt.show()"
      ],
      "execution_count": 434,
      "outputs": [
        {
          "output_type": "display_data",
          "data": {
            "image/png": "[encoded data removed]",
            "text/plain": [
              "<matplotlib.figure.Figure at 0x7fb301378dd8>"
            ]
          },
          "metadata": {
            "tags": []
          }
        }
      ]
    }
  ]
}