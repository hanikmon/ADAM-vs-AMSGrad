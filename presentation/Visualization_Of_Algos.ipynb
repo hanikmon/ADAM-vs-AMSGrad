{
 "cells": [
  {
   "cell_type": "code",
   "execution_count": 1,
   "metadata": {},
   "outputs": [],
   "source": [
    "import matplotlib.pyplot as plt\n",
    "import numpy as np\n",
    "\n",
    "from mpl_toolkits.mplot3d import Axes3D\n",
    "from matplotlib.colors import LogNorm\n",
    "from matplotlib import animation\n",
    "from IPython.display import HTML\n",
    "\n",
    "from scipy.optimize import minimize\n",
    "from collections import defaultdict\n",
    "from itertools import zip_longest\n",
    "from functools import partial\n",
    "\n",
    "import torch\n",
    "from torch.autograd import Variable\n"
   ]
  },
  {
   "cell_type": "code",
   "execution_count": 2,
   "metadata": {},
   "outputs": [],
   "source": [
    "def f_t(x):\n",
    "    c = np.random.choice([1010,-10], p=[0.01,0.99])\n",
    "    return x*float(c)\n",
    "\n",
    "def f_t_mod(x,t):\n",
    "    if(t%101 == 1):\n",
    "        c=1010\n",
    "    else:\n",
    "        c=-10\n",
    "    return x*float(c)\n",
    "\n",
    "# Beale's function\n",
    "f  = lambda x, y: (1.5 - x + x*y)**2 + (2.25 - x + x*y**2)**2 + (2.625 - x + x*y**3)**2\n",
    "# f = lambda x,y: (1010*x+1010*y)*0.01 - (10*x+10*y)*0.99 ## deterministic 2d version of function in paper\n"
   ]
  },
  {
   "cell_type": "code",
   "execution_count": 3,
   "metadata": {},
   "outputs": [],
   "source": [
    "def regret(loss_sum,min_loss_sum,t):\n",
    "    return (loss_sum - min_loss_sum)/t\n",
    "    "
   ]
  },
  {
   "cell_type": "code",
   "execution_count": 4,
   "metadata": {},
   "outputs": [],
   "source": [
    "l_r = lambda x: (1e-3)/np.sqrt(x)"
   ]
  },
  {
   "cell_type": "code",
   "execution_count": null,
   "metadata": {
    "scrolled": true
   },
   "outputs": [],
   "source": [
    "from amsgrad import Amsgrad\n",
    "\n",
    "t=1\n",
    "\n",
    "total_loss_amsgrad = 0\n",
    "total_min_loss_amsgrad = 0\n",
    "\n",
    "total_loss_adam = 0\n",
    "total_min_loss_adam = 0\n",
    "\n",
    "x_var_adam = 0\n",
    "x_var_amsgrad = 0\n",
    "\n",
    "x_var_adam = Variable(torch.FloatTensor([-.3]), requires_grad=True)\n",
    "adam = torch.optim.Adam([x_var_adam], betas=(0.9,0.99), lr=l_r(1))\n",
    "\n",
    "x_var_amsgrad = Variable(torch.FloatTensor([-0.3]), requires_grad=True)\n",
    "amsgrad = Amsgrad([x_var_amsgrad], betas=(0,0.99) , lr=l_r(1))\n",
    "\n",
    "\n",
    "x_var_adam_hist = [x_var_adam.data[0]]\n",
    "x_var_amsgrad_hist = [x_var_amsgrad.data[0]]\n",
    "\n",
    "\n",
    "regret_adam_hist=[]\n",
    "regret_amsgrad_hist=[]\n",
    "\n",
    "iters = 600000\n",
    "\n",
    "def closure_adam(): \n",
    "    adam.zero_grad()\n",
    "    loss = f_t_mod(x_var_adam,t)\n",
    "    loss.backward()\n",
    "    global total_loss_adam\n",
    "    total_loss_adam += loss.data[0]\n",
    "    global total_min_loss_adam \n",
    "    total_min_loss_adam += -1*(1010 if t%101==1 else -10)\n",
    "    return loss\n",
    "\n",
    "def closure_amsgrad(): \n",
    "    amsgrad.zero_grad()\n",
    "    loss = f_t_mod(x_var_amsgrad,t)\n",
    "    loss.backward()\n",
    "    global total_loss_amsgrad\n",
    "    total_loss_amsgrad += loss.data[0]\n",
    "    global total_min_loss_amsgrad\n",
    "    total_min_loss_amsgrad += -1*(1010 if t%101==1 else -10)\n",
    "#     print(\"total loss: \", total_loss_amsgrad)\n",
    "#     print(\"min loss: \", total_min_loss_amsgrad)\n",
    "#     print(\"t: \", t)\n",
    "#     print(\"regret: \", regret(total_loss_amsgrad,total_min_loss_amsgrad,t))\n",
    "    return loss\n",
    "\n",
    "t=1\n",
    "for i in range(iters):\n",
    "    \n",
    "    #zero the gradients\n",
    "    amsgrad.zero_grad()\n",
    "    adam.zero_grad()\n",
    "    \n",
    "    #Perform an optimization step\n",
    "    adam.step(closure_adam)\n",
    "    amsgrad.step(closure_amsgrad)\n",
    "    \n",
    "    #Clamp the variables between -1 and 1\n",
    "    x_var_adam.data = x_var_adam.data.clamp(-1,1)\n",
    "    x_var_amsgrad.data = x_var_amsgrad.data.clamp(-1,1)\n",
    "    \n",
    "    #Calculate the regret and store it\n",
    "    adam_regret = regret(total_loss_adam,total_min_loss_adam,t)\n",
    "    regret_adam_hist.append(adam_regret)\n",
    "    \n",
    "    ams_regret = regret(total_loss_amsgrad,total_min_loss_amsgrad,t)\n",
    "    regret_amsgrad_hist.append(ams_regret)\n",
    "\n",
    "    #Store the x_t values\n",
    "    x_var_adam_hist.append(x_var_adam.data[0])\n",
    "    x_var_amsgrad_hist.append(x_var_amsgrad.data[0])\n",
    "    \n",
    "    t+=1\n",
    "t=1\n",
    "    \n",
    "x = list(range(0,iters))\n",
    "plt.clf()\n",
    "plt.xlabel(\"Iterations\")\n",
    "plt.ylabel(\"$R_t/t$\")\n",
    "plt.plot(x,regret_adam_hist, label=\"adam\", c='b', ls='--')\n",
    "plt.plot(x,regret_amsgrad_hist,label=\"amsgrad\",c='g')\n",
    "plt.axis([0, iters, 0, 3])\n",
    "plt.ticklabel_format(style='sci', axis='x', scilimits=(0,0))\n",
    "plt.legend(loc='best')\n",
    "plt.show()\n",
    "\n",
    "plt.clf()\n",
    "\n",
    "\n",
    "x = list(range(0,iters+1))\n",
    "plt.plot(x, x_var_adam_hist, label=\"adam\", c='b', ls='--')\n",
    "plt.xlabel(\"Iterations\")\n",
    "plt.ylabel(\"$x_t$\")\n",
    "plt.plot(x, x_var_amsgrad_hist, label=\"amsgrad\", c='g')\n",
    "plt.ticklabel_format(style='sci', axis='x', scilimits=(0,0))\n",
    "plt.legend(loc='best')\n",
    "plt.show()\n",
    "\n",
    "print(x_var_amsgrad.data[0])\n",
    "print(x_var_adam.data[0])\n",
    "\n",
    "    "
   ]
  },
  {
   "cell_type": "code",
   "execution_count": null,
   "metadata": {},
   "outputs": [],
   "source": [
    "t=1\n",
    "x_var_adam = Variable(torch.FloatTensor([1]), requires_grad=True)\n",
    "adam = torch.optim.Adam([x_var_adam], betas=(0,1/(1+1010**2)), lr=l_r(t), eps=0)\n",
    "\n",
    "x_var_amsgrad = Variable(torch.FloatTensor([1]), requires_grad=True)\n",
    "amsgrad = Amsgrad([x_var_amsgrad], eps=0, lr=l_r(t), betas=(0,1/(1+1010**2)))\n",
    "\n",
    "x_var_adam_hist = [x_var_adam.data[0]]\n",
    "x_var_amsgrad_hist = [x_var_amsgrad.data[0]]\n",
    "\n",
    "iters = 6000000\n",
    "\n",
    "\n",
    "t=1\n",
    "for i in range(iters):\n",
    "    amsgrad.zero_grad()\n",
    "    adam.zero_grad()\n",
    "    adam.step(closure_adam)\n",
    "    amsgrad.step(closure_amsgrad)\n",
    "    x_var_adam.data = x_var_adam.data.clamp(-1,1)\n",
    "    x_var_amsgrad.data = x_var_amsgrad.data.clamp(-1,1)\n",
    "    \n",
    "    \n",
    "    x_var_adam_hist.append(x_var_adam.data[0])\n",
    "    x_var_amsgrad_hist.append(x_var_amsgrad.data[0])\n",
    "    t+=1\n",
    "t=1\n",
    "    \n",
    "x = list(range(0,iters+1))\n",
    "plt.clf()\n",
    "plt.plot(x, x_var_adam_hist, label=\"adam\", c='r')\n",
    "plt.plot(x, x_var_amsgrad_hist, label=\"amsgrad\", c='b')\n",
    "plt.legend(loc='best')\n",
    "plt.show()\n",
    "\n",
    "\n",
    "    "
   ]
  },
  {
   "cell_type": "code",
   "execution_count": null,
   "metadata": {},
   "outputs": [],
   "source": [
    "xmin, xmax, xstep = -4.5, 4.5, .2\n",
    "ymin, ymax, ystep = -4.5, 4.5, .2\n",
    "\n",
    "x, y = np.meshgrid(np.arange(xmin, xmax + xstep, xstep), np.arange(ymin, ymax + ystep, ystep))\n",
    "\n",
    "def getMinima(x,y):\n",
    "    minima = np.array([float(x),float(y)])\n",
    "    minima = minima.reshape(-1,1)\n",
    "    return minima"
   ]
  },
  {
   "cell_type": "code",
   "execution_count": null,
   "metadata": {},
   "outputs": [],
   "source": [
    "x, y = np.meshgrid(np.arange(xmin, xmax + xstep, xstep), np.arange(ymin, ymax + ystep, ystep))\n",
    "z = f(x,y)"
   ]
  },
  {
   "cell_type": "code",
   "execution_count": null,
   "metadata": {},
   "outputs": [],
   "source": [
    "minima = getMinima(3,0.5)\n",
    "fig = plt.figure(figsize=(8, 5))\n",
    "ax = plt.axes(projection='3d', elev=50, azim=-50)\n",
    "\n",
    "ax.plot_surface(x, y, z, norm=LogNorm(), rstride=1, cstride=1, \n",
    "                edgecolor='none', alpha=.8, cmap=plt.cm.jet)\n",
    "ax.plot(*minima, f(*minima), 'r*', markersize=10)\n",
    "\n",
    "ax.set_xlabel('$x$')\n",
    "ax.set_ylabel('$y$')\n",
    "ax.set_zlabel('$z$')\n",
    "\n",
    "ax.set_xlim((xmin, xmax))\n",
    "ax.set_ylim((ymin, ymax))\n",
    "\n",
    "plt.show()"
   ]
  },
  {
   "cell_type": "code",
   "execution_count": null,
   "metadata": {},
   "outputs": [],
   "source": [
    "x0 = np.array([3., 4.])"
   ]
  },
  {
   "cell_type": "code",
   "execution_count": null,
   "metadata": {},
   "outputs": [],
   "source": [
    "w_adam = Variable(torch.FloatTensor(x0), requires_grad=True)\n",
    "adam = torch.optim.Adam([w_adam], lr = 1e-3)"
   ]
  },
  {
   "cell_type": "code",
   "execution_count": null,
   "metadata": {},
   "outputs": [],
   "source": [
    "def var_ft(x,y):\n",
    "    c = np.random.choice([1010,-10], p=[0.01,0.99])\n",
    "    c = np.array([float(c)])\n",
    "    c = Variable(torch.FloatTensor(c))\n",
    "    return (c*x + c*y)\n",
    "\n",
    "def beales_var(var):\n",
    "    x = var[0]\n",
    "    y = var[1]\n",
    "    \n",
    "    return ((1.5 - x + x*y).pow(2) + (2.25 - x + (x*y).pow(2)).pow(2) + (2.625 - x + (x*y).pow(3)).pow(2))\n",
    "#     return var_ft(x,y)"
   ]
  },
  {
   "cell_type": "code",
   "execution_count": null,
   "metadata": {},
   "outputs": [],
   "source": [
    "def get_parameterized_closure(optimizer,f,w):\n",
    "    def closure(): \n",
    "        optimizer.zero_grad()\n",
    "        loss = f(w)\n",
    "        loss.backward()\n",
    "        return loss\n",
    "    return closure"
   ]
  },
  {
   "cell_type": "code",
   "execution_count": null,
   "metadata": {},
   "outputs": [],
   "source": [
    "def optimize(optim, f, w, steps, length):\n",
    "    closure = get_parameterized_closure(optim,f,w)\n",
    "    path = np.ndarray(shape=(steps,2),dtype=float)\n",
    "    for step in range(steps):\n",
    "        optim.step(closure)\n",
    "        path[step][0] = w[0].data[0]\n",
    "        path[step][1] = w[1].data[0]\n",
    "    result = np.ndarray(shape=(length,2),dtype=float)\n",
    "    idx = 0\n",
    "    for n in np.linspace(0,steps-1,num=length, dtype=int):\n",
    "        result[idx] = path[n]\n",
    "        idx += 1\n",
    "    return result"
   ]
  },
  {
   "cell_type": "code",
   "execution_count": null,
   "metadata": {},
   "outputs": [],
   "source": [
    "path = optimize(adam,beales_var,w_adam,10000, 100).T"
   ]
  },
  {
   "cell_type": "code",
   "execution_count": null,
   "metadata": {},
   "outputs": [],
   "source": [
    "fig, ax = plt.subplots(figsize=(10, 6))\n",
    "\n",
    "ax.contour(x, y, z, levels=np.logspace(0, 5, 35), norm=LogNorm(), cmap=plt.cm.jet)\n",
    "ax.quiver(path[0,:-1], path[1,:-1], path[0,1:]-path[0,:-1], path[1,1:]-path[1,:-1], scale_units='xy', angles='xy', scale=1, color='k')\n",
    "ax.plot(*minima, 'r*', markersize=18)\n",
    "\n",
    "ax.set_xlabel('$x$')\n",
    "ax.set_ylabel('$y$')\n",
    "\n",
    "ax.set_xlim((xmin, xmax))\n",
    "ax.set_ylim((ymin, ymax))\n",
    "plt.show()"
   ]
  },
  {
   "cell_type": "code",
   "execution_count": null,
   "metadata": {},
   "outputs": [],
   "source": [
    "fig, ax = plt.subplots(figsize=(10, 6))\n",
    "\n",
    "ax.contour(x, y, z, levels=np.logspace(0, 5, 35), norm=LogNorm(), cmap=plt.cm.jet)\n",
    "ax.plot(*minima, 'r*', markersize=18)\n",
    "\n",
    "line, = ax.plot([], [], 'b', label='amsgrad', lw=2)\n",
    "point, = ax.plot([], [], 'bo')\n",
    "\n",
    "ax.set_xlabel('$x$')\n",
    "ax.set_ylabel('$y$')\n",
    "\n",
    "ax.set_xlim((xmin, xmax))\n",
    "ax.set_ylim((ymin, ymax))\n",
    "\n",
    "ax.legend(loc='upper left')"
   ]
  },
  {
   "cell_type": "code",
   "execution_count": null,
   "metadata": {},
   "outputs": [],
   "source": [
    "def init():\n",
    "    line.set_data([], [])\n",
    "    point.set_data([], [])\n",
    "    return line, point"
   ]
  },
  {
   "cell_type": "code",
   "execution_count": null,
   "metadata": {},
   "outputs": [],
   "source": [
    "def animate(i):\n",
    "    line.set_data(*path[::,:i])\n",
    "    point.set_data(*path[::,i-1:i])\n",
    "    return line, point"
   ]
  },
  {
   "cell_type": "code",
   "execution_count": null,
   "metadata": {},
   "outputs": [],
   "source": [
    "anim = animation.FuncAnimation(fig, animate, init_func=init,\n",
    "                               frames=path.shape[1], interval=60, \n",
    "                               repeat_delay=5, blit=True)"
   ]
  },
  {
   "cell_type": "code",
   "execution_count": null,
   "metadata": {},
   "outputs": [],
   "source": [
    "HTML(anim.to_html5_video())"
   ]
  },
  {
   "cell_type": "code",
   "execution_count": null,
   "metadata": {},
   "outputs": [],
   "source": [
    "fig_3d = plt.figure(figsize=(8, 5))\n",
    "ax = plt.axes(projection='3d', elev=50, azim=-50)\n",
    "\n",
    "ax.plot_surface(x, y, z, norm=LogNorm(), rstride=1, cstride=1, edgecolor='none', alpha=.8, cmap=plt.cm.jet)\n",
    "ax.plot(*minima, f(*minima), 'r*', markersize=10)\n",
    "\n",
    "line_3d, = ax.plot([], [], [], 'b', label='Newton-CG', lw=2)\n",
    "point_3d, = ax.plot([], [], [], 'bo')\n",
    "\n",
    "ax.set_xlabel('$x$')\n",
    "ax.set_ylabel('$y$')\n",
    "ax.set_zlabel('$z$')\n",
    "\n",
    "ax.set_xlim((xmin, xmax))\n",
    "ax.set_ylim((ymin, ymax))"
   ]
  },
  {
   "cell_type": "code",
   "execution_count": null,
   "metadata": {},
   "outputs": [],
   "source": [
    "def init_3d():\n",
    "    line_3d.set_data([], [])\n",
    "    line_3d.set_3d_properties([])\n",
    "    point_3d.set_data([], [])\n",
    "    point_3d.set_3d_properties([])\n",
    "    return line, point"
   ]
  },
  {
   "cell_type": "code",
   "execution_count": null,
   "metadata": {},
   "outputs": [],
   "source": [
    "def animate_3d(i):\n",
    "    line_3d.set_data(path[0,:i], path[1,:i])\n",
    "    line_3d.set_3d_properties(f(*path[::,:i]))\n",
    "    point_3d.set_data(path[0,i-1:i], path[1,i-1:i])\n",
    "    point_3d.set_3d_properties(f(*path[::,i-1:i]))\n",
    "    return line, point"
   ]
  },
  {
   "cell_type": "code",
   "execution_count": null,
   "metadata": {},
   "outputs": [],
   "source": [
    "anim = animation.FuncAnimation(fig_3d, animate_3d, init_func=init_3d,\n",
    "                               frames=path.shape[1], interval=60, \n",
    "                               repeat_delay=5, blit=True)"
   ]
  },
  {
   "cell_type": "code",
   "execution_count": null,
   "metadata": {},
   "outputs": [],
   "source": [
    "HTML(anim.to_html5_video())"
   ]
  },
  {
   "cell_type": "code",
   "execution_count": null,
   "metadata": {},
   "outputs": [],
   "source": [
    "class TrajectoryAnimation(animation.FuncAnimation):\n",
    "    \n",
    "    def __init__(self, *paths, labels=[], fig=None, ax=None, frames=None, \n",
    "                 interval=60, repeat_delay=5, blit=True, **kwargs):\n",
    "\n",
    "        if fig is None:\n",
    "            if ax is None:\n",
    "                fig, ax = plt.subplots()\n",
    "            else:\n",
    "                fig = ax.get_figure()\n",
    "        else:\n",
    "            if ax is None:\n",
    "                ax = fig.gca()\n",
    "\n",
    "        self.fig = fig\n",
    "        self.ax = ax\n",
    "        \n",
    "        self.paths = paths\n",
    "\n",
    "        if frames is None:\n",
    "            frames = max(path.shape[1] for path in paths)\n",
    "  \n",
    "        self.lines = [ax.plot([], [], label=label, lw=2)[0] \n",
    "                      for _, label in zip_longest(paths, labels)]\n",
    "        self.points = [ax.plot([], [], 'o', color=line.get_color())[0] \n",
    "                       for line in self.lines]\n",
    "\n",
    "        super(TrajectoryAnimation, self).__init__(fig, self.animate, init_func=self.init_anim,\n",
    "                                                  frames=frames, interval=interval, blit=blit,\n",
    "                                                  repeat_delay=repeat_delay, **kwargs)\n",
    "\n",
    "    def init_anim(self):\n",
    "        for line, point in zip(self.lines, self.points):\n",
    "            line.set_data([], [])\n",
    "            point.set_data([], [])\n",
    "        return self.lines + self.points\n",
    "\n",
    "    def animate(self, i):\n",
    "        for line, point, path in zip(self.lines, self.points, self.paths):\n",
    "            line.set_data(*path[::,:i])\n",
    "            point.set_data(*path[::,i-1:i])\n",
    "        return self.lines + self.points"
   ]
  },
  {
   "cell_type": "code",
   "execution_count": null,
   "metadata": {},
   "outputs": [],
   "source": [
    "class TrajectoryAnimation3D(animation.FuncAnimation):\n",
    "    \n",
    "    def __init__(self, *paths, zpaths, labels=[], fig=None, ax=None, frames=None, \n",
    "                 interval=60, repeat_delay=5, blit=True, **kwargs):\n",
    "\n",
    "        if fig is None:\n",
    "            if ax is None:\n",
    "                fig, ax = plt.subplots()\n",
    "            else:\n",
    "                fig = ax.get_figure()\n",
    "        else:\n",
    "            if ax is None:\n",
    "                ax = fig.gca()\n",
    "\n",
    "        self.fig = fig\n",
    "        self.ax = ax\n",
    "        \n",
    "        self.paths = paths\n",
    "        self.zpaths = zpaths\n",
    "        \n",
    "        if frames is None:\n",
    "            frames = max(path.shape[1] for path in paths)\n",
    "  \n",
    "        self.lines = [ax.plot([], [], [], label=label, lw=2)[0] \n",
    "                      for _, label in zip_longest(paths, labels)]\n",
    "\n",
    "        super(TrajectoryAnimation3D, self).__init__(fig, self.animate, init_func=self.init_anim,\n",
    "                                                  frames=frames, interval=interval, blit=blit,\n",
    "                                                  repeat_delay=repeat_delay, **kwargs)\n",
    "\n",
    "    def init_anim(self):\n",
    "        for line in self.lines:\n",
    "            line.set_data([], [])\n",
    "            line.set_3d_properties([])\n",
    "        return self.lines\n",
    "\n",
    "    def animate(self, i):\n",
    "        for line, path, zpath in zip(self.lines, self.paths, self.zpaths):\n",
    "            line.set_data(*path[::,:i])\n",
    "            line.set_3d_properties(zpath[:i])\n",
    "        return self.lines"
   ]
  },
  {
   "cell_type": "code",
   "execution_count": null,
   "metadata": {},
   "outputs": [],
   "source": [
    "from amsgrad import Amsgrad\n",
    "\n",
    "x0 = np.array([-3., 4.])\n",
    "\n",
    "\n",
    "algos = {}\n",
    "\n",
    "w_amsgrad = Variable(torch.FloatTensor(x0), requires_grad=True)\n",
    "amsgrad = Amsgrad([w_amsgrad])\n",
    "algos['amsgrad'] = [amsgrad,beales_var,w_amsgrad]\n",
    "\n",
    "w_adam = Variable(torch.FloatTensor(x0), requires_grad=True)\n",
    "adam = torch.optim.Adam([w_adam], lr=0.01)\n",
    "algos['adam'] = [adam,beales_var,w_adam]\n",
    "\n",
    "w_adadelta = Variable(torch.FloatTensor(x0), requires_grad=True)\n",
    "adadelta = torch.optim.Adadelta([w_adadelta])\n",
    "algos['adadelta'] = [adadelta,beales_var,w_adadelta]\n",
    "\n",
    "w_adagrad = Variable(torch.FloatTensor(x0), requires_grad=True)\n",
    "adagrad = torch.optim.Adagrad([w_adagrad], lr=1)\n",
    "algos['adagrad'] = [adagrad,beales_var,w_adagrad]\n",
    "\n",
    "w_rmsprop = Variable(torch.FloatTensor(x0), requires_grad=True)\n",
    "rmsprop = torch.optim.RMSprop([w_rmsprop])\n",
    "algos['rmsprop'] = [rmsprop,beales_var,w_rmsprop]\n",
    "\n",
    "\n",
    "sgd_lr = 1e-9\n",
    "\n",
    "w_sgd = Variable(torch.FloatTensor(x0), requires_grad=True)\n",
    "sgd = torch.optim.SGD([w_sgd], lr=sgd_lr)\n",
    "algos['sgd'] = [sgd,beales_var,w_sgd]\n",
    "\n",
    "w_sgdm = Variable(torch.FloatTensor(x0), requires_grad=True)\n",
    "sgdm = torch.optim.SGD([w_sgdm], lr=1e-11, momentum=0.9)\n",
    "algos['sgd_momentum'] = [sgdm,beales_var,w_sgdm]\n",
    "\n",
    "w_nesterov = Variable(torch.FloatTensor(x0), requires_grad=True)\n",
    "nesterov = torch.optim.SGD([w_nesterov], lr=sgd_lr, momentum=0.9, nesterov=True)\n",
    "algos['sgd_nesterov'] = [nesterov,beales_var,w_nesterov]\n"
   ]
  },
  {
   "cell_type": "code",
   "execution_count": null,
   "metadata": {},
   "outputs": [],
   "source": [
    "paths = []\n",
    "methods = []\n",
    "zpaths = []\n",
    "\n",
    "for key in algos.keys():\n",
    "    path = optimize(algos[key][0],algos[key][1],algos[key][2],50000,200).T\n",
    "    paths.append(path)\n",
    "    zpaths.append(f(*path))\n",
    "    methods.append(key)\n",
    "    "
   ]
  },
  {
   "cell_type": "code",
   "execution_count": null,
   "metadata": {},
   "outputs": [],
   "source": [
    "print(w_sgd.data)"
   ]
  },
  {
   "cell_type": "code",
   "execution_count": null,
   "metadata": {},
   "outputs": [],
   "source": [
    "fig, ax = plt.subplots(figsize=(10, 6))\n",
    "\n",
    "ax.contour(x, y, z, levels=np.logspace(0, 5, 35), norm=LogNorm(), cmap=plt.cm.jet)\n",
    "ax.plot(*minima, 'r*', markersize=10)\n",
    "\n",
    "ax.set_xlabel('$x$')\n",
    "ax.set_ylabel('$y$')\n",
    "\n",
    "ax.set_xlim((xmin, xmax))\n",
    "ax.set_ylim((ymin, ymax))\n",
    "\n",
    "anim = TrajectoryAnimation(*paths, labels=methods, ax=ax)\n",
    "\n",
    "ax.legend(loc='upper left')"
   ]
  },
  {
   "cell_type": "code",
   "execution_count": null,
   "metadata": {},
   "outputs": [],
   "source": [
    "HTML(anim.to_html5_video())"
   ]
  },
  {
   "cell_type": "code",
   "execution_count": null,
   "metadata": {},
   "outputs": [],
   "source": [
    "fig = plt.figure(figsize=(8, 5))\n",
    "ax = plt.axes(projection='3d', elev=50, azim=-50)\n",
    "\n",
    "ax.plot_surface(x, y, z, norm=LogNorm(), rstride=1, cstride=1, edgecolor='none', alpha=.8, cmap=plt.cm.jet)\n",
    "ax.plot(*minima, f(*minima), 'r*', markersize=10)\n",
    "\n",
    "ax.set_xlabel('$x$')\n",
    "ax.set_ylabel('$y$')\n",
    "ax.set_zlabel('$z$')\n",
    "\n",
    "ax.set_xlim((xmin, xmax))\n",
    "ax.set_ylim((ymin, ymax))\n",
    "\n",
    "anim = TrajectoryAnimation3D(*paths, zpaths=zpaths, labels=methods, ax=ax)\n",
    "\n",
    "ax.legend(loc='upper left')"
   ]
  },
  {
   "cell_type": "code",
   "execution_count": null,
   "metadata": {},
   "outputs": [],
   "source": [
    "HTML(anim.to_html5_video())"
   ]
  },
  {
   "cell_type": "markdown",
   "metadata": {},
   "source": [
    "${\\displaystyle f(x,y)=\\sin ^{2}3\\pi x+\\left(x-1\\right)^{2}\\left(1+\\sin ^{2}3\\pi y\\right)}\n",
    "{\\displaystyle +\\left(y-1\\right)^{2}\\left(1+\\sin ^{2}2\\pi y\\right)}$"
   ]
  },
  {
   "cell_type": "code",
   "execution_count": null,
   "metadata": {},
   "outputs": [],
   "source": [
    "# Rosenbrock Function\n",
    "\n",
    "pi = np.pi\n",
    "# Lévi function \n",
    "# f  = lambda x, y: (np.sin(3*pi*x))**2 + ((x-1)**2)*(1+np.sin(3*pi*y)**2)+((y-1)**2)*(1+np.sin(2*pi*y)**2)\n",
    "f = lambda x,y: (1-x)**2 + 100*(y-x**2)**2\n",
    "def f_var(var):\n",
    "    x = var[0]\n",
    "    y = var[1]\n",
    "    return (1-x).pow(2) + 100*(y-x.pow(2)).pow(2)\n",
    "#     return (3*pi*x).sin().pow(2) + ((x-1).pow(2))*(1+(3*pi*y).sin().pow(2))+((y-1).pow(2))*(1+(2*pi*y).sin().pow(2))"
   ]
  },
  {
   "cell_type": "code",
   "execution_count": null,
   "metadata": {},
   "outputs": [],
   "source": [
    "f(1,1)"
   ]
  },
  {
   "cell_type": "code",
   "execution_count": null,
   "metadata": {},
   "outputs": [],
   "source": [
    "xmin, xmax, xstep = -10, 10, .4\n",
    "ymin, ymax, ystep = -10, 10, .4"
   ]
  },
  {
   "cell_type": "code",
   "execution_count": null,
   "metadata": {},
   "outputs": [],
   "source": [
    "x, y = np.meshgrid(np.arange(xmin, xmax + xstep, xstep), np.arange(ymin, ymax + ystep, ystep))\n",
    "z = f(x,y)"
   ]
  },
  {
   "cell_type": "code",
   "execution_count": null,
   "metadata": {},
   "outputs": [],
   "source": [
    "minima = getMinima(1,1)\n",
    "f(1,1)"
   ]
  },
  {
   "cell_type": "code",
   "execution_count": null,
   "metadata": {},
   "outputs": [],
   "source": [
    "# rand = lambda : np.add(np.random.rand(1,2)*16,-8*np.ones((1,2)))[0]\n",
    "rand = lambda : np.array([-4., 3.])"
   ]
  },
  {
   "cell_type": "code",
   "execution_count": null,
   "metadata": {},
   "outputs": [],
   "source": []
  },
  {
   "cell_type": "code",
   "execution_count": null,
   "metadata": {},
   "outputs": [],
   "source": [
    "rand()[0]"
   ]
  },
  {
   "cell_type": "code",
   "execution_count": null,
   "metadata": {},
   "outputs": [],
   "source": [
    "from amsgrad import Amsgrad\n",
    "\n",
    "# x0 = np.array([-3., 4.])\n",
    "x0 = np.array([-4., 3.])\n",
    "\n",
    "algos = {}\n",
    "\n",
    "w_amsgrad = Variable(torch.FloatTensor(rand()), requires_grad=True)\n",
    "amsgrad = Amsgrad([w_amsgrad])\n",
    "algos['amsgrad'] = [amsgrad,f_var,w_amsgrad]\n",
    "\n",
    "w_adam = Variable(torch.FloatTensor(rand()), requires_grad=True)\n",
    "adam = torch.optim.Adam([w_adam], lr=0.01)\n",
    "algos['adam'] = [adam,f_var,w_adam]\n",
    "\n",
    "w_adadelta = Variable(torch.FloatTensor(rand()), requires_grad=True)\n",
    "adadelta = torch.optim.Adadelta([w_adadelta])\n",
    "algos['adadelta'] = [adadelta,f_var,w_adadelta]\n",
    "\n",
    "w_adagrad = Variable(torch.FloatTensor(rand()), requires_grad=True)\n",
    "adagrad = torch.optim.Adagrad([w_adagrad], lr=1)\n",
    "algos['adagrad'] = [adagrad,f_var,w_adagrad]\n",
    "\n",
    "w_rmsprop = Variable(torch.FloatTensor(rand()), requires_grad=True)\n",
    "rmsprop = torch.optim.RMSprop([w_rmsprop])\n",
    "algos['rmsprop'] = [rmsprop,f_var,w_rmsprop]\n",
    "\n",
    "\n",
    "sgd_lr = 1e-9\n",
    "\n",
    "w_sgd = Variable(torch.FloatTensor(rand()), requires_grad=True)\n",
    "sgd = torch.optim.SGD([w_sgd], lr=sgd_lr)\n",
    "algos['sgd'] = [sgd,f_var,w_sgd]\n",
    "\n",
    "w_sgdm = Variable(torch.FloatTensor(rand()), requires_grad=True)\n",
    "sgdm = torch.optim.SGD([w_sgdm], lr=1e-11, momentum=0.9)\n",
    "algos['sgd_momentum'] = [sgdm,f_var,w_sgdm]\n",
    "\n",
    "w_nesterov = Variable(torch.FloatTensor(rand()), requires_grad=True)\n",
    "nesterov = torch.optim.SGD([w_nesterov], lr=sgd_lr, momentum=0.9, nesterov=True)\n",
    "algos['sgd_nesterov'] = [nesterov,f_var,w_nesterov]\n"
   ]
  },
  {
   "cell_type": "code",
   "execution_count": null,
   "metadata": {},
   "outputs": [],
   "source": [
    "paths = []\n",
    "methods = []\n",
    "zpaths = []\n",
    "\n",
    "for key in algos.keys():\n",
    "    path = optimize(algos[key][0],algos[key][1],algos[key][2],50000,100).T\n",
    "    paths.append(path)\n",
    "    zpaths.append(f(*path))\n",
    "    methods.append(key)\n",
    "    "
   ]
  },
  {
   "cell_type": "code",
   "execution_count": null,
   "metadata": {},
   "outputs": [],
   "source": [
    "fig, ax = plt.subplots(figsize=(10, 6))\n",
    "\n",
    "ax.contour(x, y, z, levels=np.logspace(0, 5, 35), norm=LogNorm(), cmap=plt.cm.jet)\n",
    "ax.plot(*minima, 'r*', markersize=10)\n",
    "\n",
    "ax.set_xlabel('$x$')\n",
    "ax.set_ylabel('$y$')\n",
    "\n",
    "ax.set_xlim((xmin, xmax))\n",
    "ax.set_ylim((ymin, ymax))\n",
    "\n",
    "anim = TrajectoryAnimation(*paths, labels=methods, ax=ax)\n",
    "\n",
    "ax.legend(loc='upper left')"
   ]
  },
  {
   "cell_type": "code",
   "execution_count": null,
   "metadata": {},
   "outputs": [],
   "source": [
    "HTML(anim.to_html5_video())"
   ]
  },
  {
   "cell_type": "code",
   "execution_count": null,
   "metadata": {},
   "outputs": [],
   "source": [
    "fig = plt.figure(figsize=(8, 5))\n",
    "ax = plt.axes(projection='3d', elev=50, azim=-50)\n",
    "\n",
    "ax.plot_surface(x, y, z, norm=LogNorm(), rstride=1, cstride=1, edgecolor='none', alpha=.8, cmap=plt.cm.jet)\n",
    "ax.plot(*minima, f(*minima), 'r*', markersize=10)\n",
    "\n",
    "ax.set_xlabel('$x$')\n",
    "ax.set_ylabel('$y$')\n",
    "ax.set_zlabel('$z$')\n",
    "\n",
    "ax.set_xlim((xmin, xmax))\n",
    "ax.set_ylim((ymin, ymax))\n",
    "\n",
    "anim = TrajectoryAnimation3D(*paths, zpaths=zpaths, labels=methods, ax=ax)\n",
    "\n",
    "ax.legend(loc='upper left')"
   ]
  },
  {
   "cell_type": "code",
   "execution_count": null,
   "metadata": {},
   "outputs": [],
   "source": [
    "HTML(anim.to_html5_video())"
   ]
  },
  {
   "cell_type": "code",
   "execution_count": null,
   "metadata": {},
   "outputs": [],
   "source": []
  },
  {
   "cell_type": "code",
   "execution_count": null,
   "metadata": {},
   "outputs": [],
   "source": []
  }
 ],
 "metadata": {
  "kernelspec": {
   "display_name": "Python 3",
   "language": "python",
   "name": "python3"
  },
  "language_info": {
   "codemirror_mode": {
    "name": "ipython",
    "version": 3
   },
   "file_extension": ".py",
   "mimetype": "text/x-python",
   "name": "python",
   "nbconvert_exporter": "python",
   "pygments_lexer": "ipython3",
   "version": "3.6.4"
  }
 },
 "nbformat": 4,
 "nbformat_minor": 2
}
